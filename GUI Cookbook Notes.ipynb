{
 "cells": [
  {
   "cell_type": "markdown",
   "metadata": {},
   "source": [
    "## Tkinter Highlights\n",
    "\n",
    "**Basic Window:**"
   ]
  },
  {
   "cell_type": "code",
   "execution_count": 2,
   "metadata": {},
   "outputs": [],
   "source": [
    "import tkinter as tk\n",
    "from tkinter import ttk\n",
    "\n",
    "win = tk.Tk()\n",
    "win.title(\"Python GUI\")\n",
    "\n",
    "win.mainloop()"
   ]
  },
  {
   "cell_type": "markdown",
   "metadata": {},
   "source": [
    "**Label, Button and Entry**"
   ]
  },
  {
   "cell_type": "code",
   "execution_count": 7,
   "metadata": {},
   "outputs": [],
   "source": [
    "import tkinter as tk\n",
    "from tkinter import ttk\n",
    "\n",
    "win = tk.Tk()\n",
    "win.title(\"Python GUI\")\n",
    "\n",
    "#win.resizable(0, 0)     # Disable resizing\n",
    "# Adding a Label\n",
    "aLabel = ttk.Label(win, text=\"A Label\")\n",
    "aLabel.grid(column=0, row=0)\n",
    "\n",
    "\n",
    "def clickMe():\n",
    "    action.configure(text=\"Hello \" + name.get())\n",
    "\n",
    "# Changing our Label\n",
    "ttk.Label(win, text=\"Enter a name:\").grid(column=0, row=0)\n",
    "\n",
    "# Adding a Textbox Entry widget\n",
    "name = tk.StringVar()\n",
    "nameEntered = ttk.Entry(win, width=12, textvariable=name)\n",
    "nameEntered.bind(\"<Return>\", (lambda event: clickMe()))\n",
    "nameEntered.grid(column=0, row=1)\n",
    "\n",
    "# Adding a Button\n",
    "action = ttk.Button(win, text=\"Click Me!\", command=clickMe)\n",
    "#action.configure(state='disabled')  # Disable the Button Widget\n",
    "# Position Buttion in second row\n",
    "action.grid(column=1, row=1)\n",
    "nameEntered.focus()\n",
    "\n",
    "win.mainloop()"
   ]
  },
  {
   "cell_type": "markdown",
   "metadata": {},
   "source": [
    "**Note:**\n",
    "Set focus on the Entry by default:  \n",
    "`nameEntered.focus()`\n",
    "\n",
    "Allow Return key to trigger action:  \n",
    "`nameEntered.bind(\"<Return>\", (lambda event: clickMe()))`"
   ]
  },
  {
   "cell_type": "markdown",
   "metadata": {},
   "source": [
    "**Add Combobox**:  \n",
    "`number = tk.StringVar()\n",
    " numberChosen = ttk.Combobox(win, width=12, textvariable=number)\n",
    " numberChosen['values'] = (1,2,4, 42, 100)\n",
    " numberChosen.gird(column=1, row=1)\n",
    " numberChosen.current(0)`\n",
    " \n",
    " The tuple populates the drop-down menu, but we can type in a different number as well.  \n",
    " `current(0)` selects default number - 1 (position 0)."
   ]
  },
  {
   "cell_type": "markdown",
   "metadata": {},
   "source": [
    "**Add Checkbutton:**  \n",
    "`chVarDis = tk.IntVar()\n",
    " check1 = tk.Checkbutton(win, text=\"Disabled\", variable=chVarDis, state='disabled')\n",
    " check1.select()\n",
    " check1.grid(column=0, row=4, sticky=tk.W)`  \n",
    " Here 'select' indicates default state - checked / unchecked"
   ]
  }
 ],
 "metadata": {
  "kernelspec": {
   "display_name": "Python 3",
   "language": "python",
   "name": "python3"
  },
  "language_info": {
   "codemirror_mode": {
    "name": "ipython",
    "version": 3
   },
   "file_extension": ".py",
   "mimetype": "text/x-python",
   "name": "python",
   "nbconvert_exporter": "python",
   "pygments_lexer": "ipython3",
   "version": "3.6.5"
  }
 },
 "nbformat": 4,
 "nbformat_minor": 2
}
