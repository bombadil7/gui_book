{
 "cells": [
  {
   "cell_type": "markdown",
   "metadata": {},
   "source": [
    "## Tkinter Highlights\n",
    "\n",
    "**Basic Window:**"
   ]
  },
  {
   "cell_type": "code",
   "execution_count": 2,
   "metadata": {},
   "outputs": [],
   "source": [
    "import tkinter as tk\n",
    "from tkinter import ttk\n",
    "\n",
    "win = tk.Tk()\n",
    "win.title(\"Python GUI\")\n",
    "\n",
    "win.mainloop()"
   ]
  },
  {
   "cell_type": "markdown",
   "metadata": {},
   "source": [
    "**Label, Button and Entry**"
   ]
  },
  {
   "cell_type": "code",
   "execution_count": 7,
   "metadata": {},
   "outputs": [],
   "source": [
    "import tkinter as tk\n",
    "from tkinter import ttk\n",
    "\n",
    "win = tk.Tk()\n",
    "win.title(\"Python GUI\")\n",
    "\n",
    "#win.resizable(0, 0)     # Disable resizing\n",
    "# Adding a Label\n",
    "aLabel = ttk.Label(win, text=\"A Label\")\n",
    "aLabel.grid(column=0, row=0)\n",
    "\n",
    "\n",
    "def clickMe():\n",
    "    action.configure(text=\"Hello \" + name.get())\n",
    "\n",
    "# Changing our Label\n",
    "ttk.Label(win, text=\"Enter a name:\").grid(column=0, row=0)\n",
    "\n",
    "# Adding a Textbox Entry widget\n",
    "name = tk.StringVar()\n",
    "nameEntered = ttk.Entry(win, width=12, textvariable=name)\n",
    "nameEntered.bind(\"<Return>\", (lambda event: clickMe()))\n",
    "nameEntered.grid(column=0, row=1)\n",
    "\n",
    "# Adding a Button\n",
    "action = ttk.Button(win, text=\"Click Me!\", command=clickMe)\n",
    "#action.configure(state='disabled')  # Disable the Button Widget\n",
    "# Position Buttion in second row\n",
    "action.grid(column=1, row=1)\n",
    "nameEntered.focus()\n",
    "\n",
    "win.mainloop()"
   ]
  },
  {
   "cell_type": "markdown",
   "metadata": {},
   "source": [
    "**Note:**\n",
    "Set focus on the Entry by default:  \n",
    "`nameEntered.focus()`\n",
    "\n",
    "Allow Return key to trigger action:  \n",
    "`nameEntered.bind(\"<Return>\", (lambda event: clickMe()))`"
   ]
  },
  {
   "cell_type": "markdown",
   "metadata": {},
   "source": [
    "**Add Combobox**:  \n",
    "`number = tk.StringVar()\n",
    " numberChosen = ttk.Combobox(win, width=12, textvariable=number)\n",
    " numberChosen['values'] = (1,2,4, 42, 100)\n",
    " numberChosen.gird(column=1, row=1)\n",
    " numberChosen.current(0)`\n",
    " \n",
    " The tuple populates the drop-down menu, but we can type in a different number as well.  \n",
    " `current(0)` selects default number - 1 (position 0)."
   ]
  },
  {
   "cell_type": "markdown",
   "metadata": {},
   "source": [
    "**Add Checkbutton:**  \n",
    "`chVarDis = tk.IntVar()\n",
    " check1 = tk.Checkbutton(win, text=\"Disabled\", variable=chVarDis, state='disabled')\n",
    " check1.select()\n",
    " check1.grid(column=0, row=4, sticky=tk.W)`  \n",
    " Here 'select' indicates default state - checked / unchecked"
   ]
  },
  {
   "cell_type": "markdown",
   "metadata": {},
   "source": [
    "**Add Radiobuttons:**  \n",
    "`COLOR1 = \"Blue\"\n",
    " COLOR2 = \"Gold\"\n",
    " COLOR3 = \"Red\"`  \n",
    " \n",
    " `def radCall():\n",
    "     radSel = radVar.get()\n",
    "     if   radSel == 1: win.configure(background=COLOR1)\n",
    "     elif radSel == 2: win.configure(background=COLOR2)\n",
    "     elif radSel == 3: win.configure(background=COLOR3)`\n",
    "     \n",
    "`radVar = tk.IntVar()\n",
    "rad1 = tk.Radiobutton(win, text=COLOR1, variable=radVar, value=1, command=radCall)\n",
    "rad2 = tk.Radiobutton(win, text=COLOR2, variable=radVar, value=2, command=radCall)\n",
    "rad3 = tk.Radiobutton(win, text=COLOR3, variable=radVar, value=3, command=radCall)\n",
    "rad1.grid(column=0, row=5, sticky=tk.W)\n",
    "rad2.grid(column=1, row=5, sticky=tk.W)\n",
    "rad3.grid(column=2, row=5, sticky=tk.W)`  \n",
    "One thing to note is that only one of the rad buttons gets selected at any time.\n",
    "Also, color name globals get interpreted as text or color codes in the right context."
   ]
  },
  {
   "cell_type": "markdown",
   "metadata": {},
   "source": [
    "**Adding Several Widgets in a Loop**\n",
    "Chane Radiobutton global variables into a list:  \n",
    "`colors = [\"Blue\", \"Gold\", \"Red\"]`  \n",
    "Set radVar to a non-existant index:  \n",
    "`radVar.set[99]`  \n",
    "Loop to create all Radiobuttons:  \n",
    "`for col in range(3):\n",
    "    curRad = 'rad' + str(col)\n",
    "    curRad = tk.Radiobutton(win, text=colors[col], variable=radVar, \n",
    "            value=col, command=radCall)\n",
    "    curRad.grid(column=col, row=5, sticky=tk.W)`  \n",
    "    \n",
    "**Note:** we can't refer to these buttons by name later on (it seems) because rad0, rad1, rad2 do not exist outside of the scope of the for loop.  The reason it's OK here is because we refer to them using the 'value' parameter."
   ]
  },
  {
   "cell_type": "markdown",
   "metadata": {},
   "source": [
    "**Widget Properties**\n",
    "To set widget properties we use one of three methods:\n",
    "- button = ttk.Button(root, text = 'Click Me')\n",
    "- button['text'] = 'Press Me'\n",
    "- button.config(text = 'Push Me')\n",
    "\n",
    "To view all widget's parameters run  \n",
    "`button.config()`  \n"
   ]
  }
 ],
 "metadata": {
  "kernelspec": {
   "display_name": "Python 3",
   "language": "python",
   "name": "python3"
  },
  "language_info": {
   "codemirror_mode": {
    "name": "ipython",
    "version": 3
   },
   "file_extension": ".py",
   "mimetype": "text/x-python",
   "name": "python",
   "nbconvert_exporter": "python",
   "pygments_lexer": "ipython3",
   "version": "3.6.5"
  }
 },
 "nbformat": 4,
 "nbformat_minor": 2
}
